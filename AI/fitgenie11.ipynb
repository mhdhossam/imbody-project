{
 "cells": [
  {
   "cell_type": "code",
   "execution_count": 1,
   "id": "91c2d24b-5bef-49df-82c7-8c690fa71c1b",
   "metadata": {},
   "outputs": [],
   "source": [
    "import google.generativeai as genai"
   ]
  },
  {
   "cell_type": "code",
   "execution_count": 2,
   "id": "dad426e4-43b4-4717-b7a7-187e45268e6e",
   "metadata": {},
   "outputs": [],
   "source": [
    "GOOGLE_API_KEY=\"secret xd\"\n",
    "genai.configure(api_key=GOOGLE_API_KEY)"
   ]
  },
  {
   "cell_type": "code",
   "execution_count": 3,
   "id": "38bfeeb8-7129-433e-9c6e-d8446e80d2a5",
   "metadata": {},
   "outputs": [],
   "source": [
    "model = genai.GenerativeModel('gemini-pro')"
   ]
  },
  {
   "cell_type": "code",
   "execution_count": 4,
   "id": "54cfe4a1-9693-4e3b-b596-9ac895af513d",
   "metadata": {},
   "outputs": [],
   "source": [
    "age= 23\n",
    "weight = 70\n",
    "\n",
    "\n",
    "\n",
    "\n",
    "data=f\"my Age is {age} , Weight {weight} kg, Height 185 cm, BMI 22.5, Allergies : Celiac disease , activity_level 1.9 , Fitness Goals Gain weight, Work Out Level intermediate, Gender Male\""
   ]
  },
  {
   "cell_type": "code",
   "execution_count": 5,
   "id": "a5c1077a-e07c-4e2a-8104-559fce176e81",
   "metadata": {},
   "outputs": [
    {
     "name": "stdout",
     "output_type": "stream",
     "text": [
      "Wall time: 5.83 s\n"
     ]
    }
   ],
   "source": [
    "%%time\n",
    "prompt=f\"\"\"\n",
    "Question: Generate a complete meal plan for this person data\n",
    "data : {data}\n",
    "\n",
    "\n",
    "Answer: Let's think step by step.\n",
    "\n",
    "IMPORTANT NOTES :\n",
    "    - calculate for each meal the number of calories and protien and carbs\n",
    "    - dont print the person data just give me the plan\n",
    "    - and generate random meals\n",
    "    - dont generate meals from Allergies\n",
    "    - Allergies are meals that user dont like\n",
    "    - make it as python dict format and every meal name is a key and meal data as value\n",
    "    - just the python dict format dont print anything else like word python\n",
    "    - every value is string\n",
    "    - make sure python format is correct\n",
    "    \n",
    "\n",
    "we can design a meal plan with quantities consisting of three meals and \n",
    " two snacks per day,foucs on allergies,calories_intake_per_day and fitness goal\\n\\n\n",
    "\"\"\"\n",
    "\n",
    "response = model.generate_content(prompt)"
   ]
  },
  {
   "cell_type": "code",
   "execution_count": 9,
   "id": "b112a3e2-fce3-4084-bdf3-aa21522e483f",
   "metadata": {},
   "outputs": [],
   "source": [
    "meal_data = (response.text)"
   ]
  },
  {
   "cell_type": "code",
   "execution_count": 10,
   "id": "6f058734-f10c-42bf-ad3e-243adee1750d",
   "metadata": {},
   "outputs": [],
   "source": [
    "data_j=eval(response.text)"
   ]
  },
  {
   "cell_type": "code",
   "execution_count": 11,
   "id": "250734d7-3a57-40ec-844a-ed8c4bff55a8",
   "metadata": {},
   "outputs": [
    {
     "name": "stdout",
     "output_type": "stream",
     "text": [
      "{\n",
      " \"Breakfast\": {\n",
      "  \"Calories\": \"450\",\n",
      "  \"Protein\": \"30g\",\n",
      "  \"Carbs\": \"60g\",\n",
      "  \"Meal\": \"2 Scrambled eggs with spinach and mushrooms on the side, 2 slices of whole-grain toast with avocado and a glass of orange juice\"\n",
      " },\n",
      " \"Lunch\": {\n",
      "  \"Calories\": \"550\",\n",
      "  \"Protein\": \"40g\",\n",
      "  \"Carbs\": \"70g\",\n",
      "  \"Meal\": \"Grilled chicken breast with brown rice and broccoli, an apple and a handful of almonds\"\n",
      " },\n",
      " \"Dinner\": {\n",
      "  \"Calories\": \"600\",\n",
      "  \"Protein\": \"50g\",\n",
      "  \"Carbs\": \"80g\",\n",
      "  \"Meal\": \"Baked salmon with roasted potatoes and asparagus, a side of quinoa\"\n",
      " },\n",
      " \"Snack 1\": {\n",
      "  \"Calories\": \"200\",\n",
      "  \"Protein\": \"15g\",\n",
      "  \"Carbs\": \"20g\",\n",
      "  \"Meal\": \"Protein shake with banana and peanut butter\"\n",
      " },\n",
      " \"Snack 2\": {\n",
      "  \"Calories\": \"150\",\n",
      "  \"Protein\": \"10g\",\n",
      "  \"Carbs\": \"15g\",\n",
      "  \"Meal\": \"Greek yogurt with berries and granola\"\n",
      " }\n",
      "}\n"
     ]
    }
   ],
   "source": [
    "print(meal_data)"
   ]
  },
  {
   "cell_type": "code",
   "execution_count": 26,
   "id": "54ebc65d-2bfb-4b3d-876e-89fc6691d919",
   "metadata": {},
   "outputs": [
    {
     "name": "stdout",
     "output_type": "stream",
     "text": [
      " **Juicy Turkey Meatballs with Pasta**\n",
      "**Total Time:** 45 minutes\n",
      "**Servings:** 4\n",
      "\n",
      "**Ingredients**\n",
      "- 1 pound 93% lean ground turkey\n",
      "- 1/3 cup panko breadcrumbs\n",
      "- 1/2 cup grated parmesan cheese\n",
      "- 2 large eggs\n",
      "- 1/2 cup milk\n",
      "- 1 teaspoon italian seasoning\n",
      "- 1/2 teaspoon salt\n",
      "- 1/4 teaspoon black pepper\n",
      "- 1 jar (24 ounces) marinara sauce\n",
      "- 1 pound penne pasta\n",
      "- 1/2 cup fresh baby spinach leaves\n",
      "- 1/4 cup grated parmesan cheese, for serving\n",
      "\n",
      "**Instructions**\n",
      "1. In a large bowl, combine the turkey, panko, parmesan, eggs, milk, italian seasoning, salt, and pepper. Mix until just combined.\n",
      "2. Form the mixture into 1 1/2-inch meatballs.\n",
      "3. In a large skillet over medium heat, cook the meatballs in olive oil until browned on all sides.\n",
      "4. Add the marinara sauce and bring to a simmer. Cover and cook for 15 minutes, or until the meatballs are cooked through.\n",
      "5. While the meatballs are cooking, cook the penne pasta according to the package directions.\n",
      "6. Drain the pasta and add it to the skillet with the meatballs and sauce. Stir to combine.\n",
      "7. Add the spinach and stir until it is wilted.\n",
      "8. Serve the pasta with additional grated parmesan cheese, if desired.\n",
      "\n",
      "**Nutrition Facts**\n",
      "Serving Size: 1/4 of the recipe\n",
      "Calories: 450\n"
     ]
    }
   ],
   "source": [
    "import PIL.Image\n",
    "\n",
    "image =  PIL.Image.open('food.jpeg') \n",
    "image.resize(size=(300,300))\n",
    "model2 = genai.GenerativeModel('gemini-pro-vision')\n",
    "result = model2.generate_content([\n",
    "     \"Give me a recipe for these and try to estimate how many calories are in this :\", image])\n",
    "\n",
    "recipe = (result.text)\n",
    "\n",
    "print(recipe)\n",
    "\n"
   ]
  },
  {
   "cell_type": "code",
   "execution_count": 15,
   "id": "e2c81c9b-6d43-460f-8e9f-67929d29f0ca",
   "metadata": {},
   "outputs": [],
   "source": [
    "import os\n",
    "import warnings \n",
    "\n",
    "warnings.filterwarnings('ignore')\n",
    "os.environ[\"HUGGINGFACEHUB_API_TOKEN\"] = \"secret too\""
   ]
  },
  {
   "cell_type": "code",
   "execution_count": 16,
   "id": "76eef2c9-02d5-4d7f-ad6a-d498be6641dd",
   "metadata": {},
   "outputs": [],
   "source": [
    "model1 = genai.GenerativeModel('gemini-pro')"
   ]
  },
  {
   "cell_type": "code",
   "execution_count": 21,
   "id": "d7cdcb2c-4930-4fc1-b50a-90e5bee5ff61",
   "metadata": {},
   "outputs": [],
   "source": [
    "\n",
    "\n",
    "template = f\"\"\"\n",
    "\n",
    "\n",
    "I'd like you to generate a workout plan based on the user data and diet plan provided. Please ensure that the user data and diet plan are not included in the output, but instead, use them to create a personalized workout plan that complements the user's nutritional intake.\n",
    "\n",
    "Here are the details you need to consider:\n",
    "\n",
    "User data: {data}\n",
    "Diet plan: {meal_data}\n",
    "Based on this information, please generate a workout plan that includes the following:\n",
    "\n",
    "Type of exercises: [e.g. cardio, strength training, flexibility, or a combination]\n",
    "Duration and frequency of workouts: [e.g. 30 minutes, 3 times a week]\n",
    "Intensity level: [e.g. low, moderate, or high]\n",
    "Specific exercises or routines: [e.g. squats, lunges, push-ups, or yoga poses]\n",
    "Please ensure that the workout plan is safe, effective, and tailored to the user's fitness level and goals. Thank you!\n",
    "\n",
    "IMPORTANT NOTES : \n",
    "    -Include the upcoming data into gathering information but don't print it.\n",
    "    -Please While Printing Exclude anything written in this prompt except the work out data.\n",
    "    -Only print Type of exercises, Duration and frequency of work outs, Intensity level, Specific exercises or routines.\n",
    "    -calculate the burnt calories per each part of the workout on average\n",
    "\"\"\"\n",
    "\n",
    "\n",
    "\n",
    "\n",
    "response1 = model1.generate_content(template)"
   ]
  },
  {
   "cell_type": "code",
   "execution_count": 22,
   "id": "78c41b4f-4414-42ba-ae7e-4de898d920ef",
   "metadata": {},
   "outputs": [],
   "source": [
    "workout_data = (response1.text)"
   ]
  },
  {
   "cell_type": "code",
   "execution_count": 23,
   "id": "1d2aa452-12ea-448f-a8e4-cc35b181c04a",
   "metadata": {},
   "outputs": [],
   "source": [
    "data_j=eval(response.text)"
   ]
  },
  {
   "cell_type": "code",
   "execution_count": 24,
   "id": "918e55c4-b96a-4c0b-88b2-15cb6fe2f000",
   "metadata": {},
   "outputs": [
    {
     "name": "stdout",
     "output_type": "stream",
     "text": [
      "**Type of Exercises:** Combination of strength training, cardio, and flexibility\n",
      "\n",
      "**Duration and Frequency of Workouts:**\n",
      "\n",
      "* Strength training: 3 times per week, 45-60 minutes per session\n",
      "* Cardio: 2-3 times per week, 30-45 minutes per session\n",
      "* Flexibility: 1-2 times per week, 15-20 minutes per session\n",
      "\n",
      "**Intensity Level:** Moderate to high\n",
      "\n",
      "**Specific Exercises or Routines:**\n",
      "\n",
      "**Strength Training:**\n",
      "\n",
      "* Squats\n",
      "* Lunges\n",
      "* Push-ups\n",
      "* Pull-ups\n",
      "* Rows\n",
      "* Bench press\n",
      "\n",
      "**Cardio:**\n",
      "\n",
      "* Running\n",
      "* Swimming\n",
      "* Cycling\n",
      "* Elliptical trainer\n",
      "\n",
      "**Flexibility:**\n",
      "\n",
      "* Yoga poses\n",
      "* Pilates\n",
      "* Stretching\n",
      "\n",
      "**Calorie Burn:**\n",
      "\n",
      "* Strength training: 200-300 calories per session\n",
      "* Cardio: 250-400 calories per session\n",
      "* Flexibility: 50-100 calories per session\n"
     ]
    }
   ],
   "source": [
    "print(workout_data)"
   ]
  },
  {
   "cell_type": "code",
   "execution_count": null,
   "id": "decbe927-a0d1-4c0d-8eee-6cd99354106f",
   "metadata": {},
   "outputs": [],
   "source": []
  }
 ],
 "metadata": {
  "kernelspec": {
   "display_name": "Python 3 (ipykernel)",
   "language": "python",
   "name": "python3"
  },
  "language_info": {
   "codemirror_mode": {
    "name": "ipython",
    "version": 3
   },
   "file_extension": ".py",
   "mimetype": "text/x-python",
   "name": "python",
   "nbconvert_exporter": "python",
   "pygments_lexer": "ipython3",
   "version": "3.9.13"
  }
 },
 "nbformat": 4,
 "nbformat_minor": 5
}
